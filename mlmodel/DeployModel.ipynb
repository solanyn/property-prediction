{
 "cells": [
  {
   "cell_type": "code",
   "execution_count": 1,
   "metadata": {},
   "outputs": [],
   "source": [
    "# Run me as an AWS Notebook Instance!"
   ]
  },
  {
   "cell_type": "code",
   "execution_count": 23,
   "metadata": {},
   "outputs": [
    {
     "name": "stdout",
     "output_type": "stream",
     "text": [
      "Sending build context to Docker daemon  1.645MB\n",
      "Step 1/6 : FROM python:3\n",
      " ---> a6be143418fc\n",
      "Step 2/6 : WORKDIR /usr/src/app\n",
      " ---> Using cache\n",
      " ---> 518f16448073\n",
      "Step 3/6 : RUN pip install psycopg2-binary catboost scikit-learn numpy pandas\n",
      " ---> Using cache\n",
      " ---> 8c883c77b339\n",
      "Step 4/6 : COPY . .\n",
      " ---> 4b1bc06eb911\n",
      "Step 5/6 : CMD [ \"python\", \"./train.py\" ]\n",
      " ---> Running in 27cb58e148b9\n",
      "Removing intermediate container 27cb58e148b9\n",
      " ---> 6960dbd0cdf8\n",
      "Step 6/6 : RUN echo \"Model saved to file!\"\n",
      " ---> Running in 36006085f794\n",
      "Model saved to file!\n",
      "Removing intermediate container 36006085f794\n",
      " ---> b64857a85bed\n",
      "Successfully built b64857a85bed\n",
      "Successfully tagged catboost:latest\n",
      "Opening connection to RDS...\n",
      "Preparing data...\n",
      "Traceback (most recent call last):\n",
      "  File \"./train.py\", line 21, in <module>\n",
      "    data = data.loc[:,['suburb', 'rooms', 'type', 'price', 'postcode', 'bathroom', 'car', 'landsize', 'councilarea', 'regionname']]\n",
      "  File \"/usr/local/lib/python3.8/site-packages/pandas/core/indexing.py\", line 1762, in __getitem__\n",
      "    return self._getitem_tuple(key)\n",
      "  File \"/usr/local/lib/python3.8/site-packages/pandas/core/indexing.py\", line 1289, in _getitem_tuple\n",
      "    retval = getattr(retval, self.name)._getitem_axis(key, axis=i)\n",
      "  File \"/usr/local/lib/python3.8/site-packages/pandas/core/indexing.py\", line 1954, in _getitem_axis\n",
      "    return self._getitem_iterable(key, axis=axis)\n",
      "  File \"/usr/local/lib/python3.8/site-packages/pandas/core/indexing.py\", line 1595, in _getitem_iterable\n",
      "    keyarr, indexer = self._get_listlike_indexer(key, axis, raise_missing=False)\n",
      "  File \"/usr/local/lib/python3.8/site-packages/pandas/core/indexing.py\", line 1552, in _get_listlike_indexer\n",
      "    self._validate_read_indexer(\n",
      "  File \"/usr/local/lib/python3.8/site-packages/pandas/core/indexing.py\", line 1640, in _validate_read_indexer\n",
      "    raise KeyError(f\"None of [{key}] are in the [{axis_name}]\")\n",
      "KeyError: \"None of [Index(['suburb', 'rooms', 'type', 'price', 'postcode', 'bathroom', 'car',\\n       'landsize', 'councilarea', 'regionname'],\\n      dtype='object')] are in the [columns]\"\n"
     ]
    }
   ],
   "source": [
    "# Build dockerfile\n",
    "!docker build --tag catboost . && docker run catboost"
   ]
  },
  {
   "cell_type": "code",
   "execution_count": 10,
   "metadata": {},
   "outputs": [
    {
     "name": "stdout",
     "output_type": "stream",
     "text": [
      "upload: ./catboost.model to s3://house-prediction-project/ml-model/catboost.model\n"
     ]
    }
   ],
   "source": [
    "# Export model to S3\n",
    "!aws s3 cp catboost.model s3://house-prediction-project/ml-model/catboost.model"
   ]
  },
  {
   "cell_type": "code",
   "execution_count": 19,
   "metadata": {},
   "outputs": [
    {
     "ename": "TypeError",
     "evalue": "a bytes-like object is required, not 'str'",
     "output_type": "error",
     "traceback": [
      "\u001b[0;31m---------------------------------------------------------------------------\u001b[0m",
      "\u001b[0;31mTypeError\u001b[0m                                 Traceback (most recent call last)",
      "\u001b[0;32m<ipython-input-19-e54d300878ec>\u001b[0m in \u001b[0;36m<module>\u001b[0;34m()\u001b[0m\n\u001b[1;32m      1\u001b[0m \u001b[0;32mimport\u001b[0m \u001b[0mpickle\u001b[0m\u001b[0;34m\u001b[0m\u001b[0m\n\u001b[1;32m      2\u001b[0m \u001b[0;32mwith\u001b[0m \u001b[0mopen\u001b[0m\u001b[0;34m(\u001b[0m\u001b[0;34m\"catboost.model\"\u001b[0m\u001b[0;34m,\u001b[0m \u001b[0;34m\"r\"\u001b[0m\u001b[0;34m)\u001b[0m \u001b[0;32mas\u001b[0m \u001b[0mf\u001b[0m\u001b[0;34m:\u001b[0m\u001b[0;34m\u001b[0m\u001b[0m\n\u001b[0;32m----> 3\u001b[0;31m     \u001b[0mmodel\u001b[0m \u001b[0;34m=\u001b[0m \u001b[0mpickle\u001b[0m\u001b[0;34m.\u001b[0m\u001b[0mload\u001b[0m\u001b[0;34m(\u001b[0m\u001b[0mf\u001b[0m\u001b[0;34m)\u001b[0m\u001b[0;34m\u001b[0m\u001b[0m\n\u001b[0m\u001b[1;32m      4\u001b[0m     \u001b[0mf\u001b[0m\u001b[0;34m.\u001b[0m\u001b[0mclose\u001b[0m\u001b[0;34m(\u001b[0m\u001b[0;34m)\u001b[0m\u001b[0;34m\u001b[0m\u001b[0m\n",
      "\u001b[0;31mTypeError\u001b[0m: a bytes-like object is required, not 'str'"
     ]
    }
   ],
   "source": [
    "import pickle\n",
    "with open(\"catboost.model\", \"r\") as f:\n",
    "    model = pickle.load(f)\n",
    "    f.close()"
   ]
  },
  {
   "cell_type": "code",
   "execution_count": null,
   "metadata": {},
   "outputs": [],
   "source": []
  }
 ],
 "metadata": {
  "kernelspec": {
   "display_name": "conda_python3",
   "language": "python",
   "name": "conda_python3"
  },
  "language_info": {
   "codemirror_mode": {
    "name": "ipython",
    "version": 3
   },
   "file_extension": ".py",
   "mimetype": "text/x-python",
   "name": "python",
   "nbconvert_exporter": "python",
   "pygments_lexer": "ipython3",
   "version": "3.6.5"
  }
 },
 "nbformat": 4,
 "nbformat_minor": 4
}
