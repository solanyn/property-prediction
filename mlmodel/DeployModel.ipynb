{
 "cells": [
  {
   "cell_type": "code",
   "execution_count": 1,
   "metadata": {},
   "outputs": [],
   "source": [
    "# Run me as an AWS Notebook Instance!"
   ]
  },
  {
   "cell_type": "code",
   "execution_count": 7,
   "metadata": {},
   "outputs": [
    {
     "name": "stdout",
     "output_type": "stream",
     "text": [
      "Sending build context to Docker daemon  4.699MB\n",
      "Step 1/5 : FROM python:3\n",
      " ---> a6be143418fc\n",
      "Step 2/5 : WORKDIR /app\n",
      " ---> Using cache\n",
      " ---> 8ba7d33f3f39\n",
      "Step 3/5 : RUN pip install psycopg2-binary catboost scikit-learn numpy pandas\n",
      " ---> Using cache\n",
      " ---> fb9f71f5de3d\n",
      "Step 4/5 : COPY . .\n",
      " ---> e60d1e5f77e3\n",
      "Step 5/5 : CMD [ \"python\", \"./train.py\" ]\n",
      " ---> Running in 75d532c897d7\n",
      "Removing intermediate container 75d532c897d7\n",
      " ---> 2d54d80c00a0\n",
      "Successfully built 2d54d80c00a0\n",
      "Successfully tagged catboost:latest\n",
      "Opening connection to RDS...\n",
      "Preparing data...\n",
      "Training model...\n",
      "0:\tloss: 293139.0902036\tbest: 293139.0902036 (0)\ttotal: 9.15s\tremaining: 1m 22s\n",
      "1:\tloss: 289719.0556415\tbest: 289719.0556415 (1)\ttotal: 18.3s\tremaining: 1m 13s\n",
      "2:\tloss: 292805.5195725\tbest: 289719.0556415 (1)\ttotal: 27.3s\tremaining: 1m 3s\n",
      "3:\tloss: 288436.3073962\tbest: 288436.3073962 (3)\ttotal: 41.9s\tremaining: 1m 2s\n",
      "4:\tloss: 295073.5579464\tbest: 288436.3073962 (3)\ttotal: 47.5s\tremaining: 47.5s\n",
      "5:\tloss: 295414.4190824\tbest: 288436.3073962 (3)\ttotal: 56.5s\tremaining: 37.6s\n",
      "6:\tloss: 291468.9809979\tbest: 288436.3073962 (3)\ttotal: 1m 10s\tremaining: 30.3s\n",
      "7:\tloss: 288436.3073962\tbest: 288436.3073962 (3)\ttotal: 1m 25s\tremaining: 21.3s\n",
      "8:\tloss: 288505.2160420\tbest: 288436.3073962 (3)\ttotal: 1m 40s\tremaining: 11.1s\n",
      "9:\tloss: 307854.0188650\tbest: 288436.3073962 (3)\ttotal: 2m 5s\tremaining: 0us\n",
      "Estimating final quality...\n",
      "Metrics\n",
      "103775867035.99205\n",
      "174705.98666286515\n",
      "0.774454337072908\n"
     ]
    }
   ],
   "source": [
    "# Train model\n",
    "!docker build --tag catboost . && docker run -v ${PWD}:/app/model catboost"
   ]
  },
  {
   "cell_type": "code",
   "execution_count": 8,
   "metadata": {},
   "outputs": [
    {
     "name": "stdout",
     "output_type": "stream",
     "text": [
      "catboost-model\n"
     ]
    }
   ],
   "source": [
    "# Save and tar\n",
    "!tar czvf model.tar.gz catboost-model"
   ]
  },
  {
   "cell_type": "code",
   "execution_count": 5,
   "metadata": {},
   "outputs": [
    {
     "name": "stdout",
     "output_type": "stream",
     "text": [
      "Collecting catboost\n",
      "\u001b[?25l  Downloading https://files.pythonhosted.org/packages/b1/61/2b8106c8870601671d99ca94d8b8d180f2b740b7cdb95c930147508abcf9/catboost-0.23-cp36-none-manylinux1_x86_64.whl (64.7MB)\n",
      "\u001b[K    100% |████████████████████████████████| 64.8MB 707kB/s eta 0:00:01\n",
      "\u001b[?25hRequirement already satisfied: scipy in /home/ec2-user/anaconda3/envs/python3/lib/python3.6/site-packages (from catboost) (1.1.0)\n",
      "Requirement already satisfied: six in /home/ec2-user/anaconda3/envs/python3/lib/python3.6/site-packages (from catboost) (1.11.0)\n",
      "Requirement already satisfied: matplotlib in /home/ec2-user/anaconda3/envs/python3/lib/python3.6/site-packages (from catboost) (3.0.3)\n",
      "Requirement already satisfied: pandas>=0.24.0 in /home/ec2-user/anaconda3/envs/python3/lib/python3.6/site-packages (from catboost) (0.24.2)\n",
      "Collecting numpy>=1.16.0 (from catboost)\n",
      "\u001b[?25l  Downloading https://files.pythonhosted.org/packages/3d/fc/4763e5f17ac6e7e7d55f377cde859ca1c5d5ac624441ab45315bc578aa9e/numpy-1.18.3-cp36-cp36m-manylinux1_x86_64.whl (20.2MB)\n",
      "\u001b[K    100% |████████████████████████████████| 20.2MB 2.3MB/s eta 0:00:01\n",
      "\u001b[?25hCollecting graphviz (from catboost)\n",
      "  Downloading https://files.pythonhosted.org/packages/83/cc/c62100906d30f95d46451c15eb407da7db201e30f42008f3643945910373/graphviz-0.14-py2.py3-none-any.whl\n",
      "Requirement already satisfied: plotly in /home/ec2-user/anaconda3/envs/python3/lib/python3.6/site-packages (from catboost) (4.5.2)\n",
      "Requirement already satisfied: cycler>=0.10 in /home/ec2-user/anaconda3/envs/python3/lib/python3.6/site-packages (from matplotlib->catboost) (0.10.0)\n",
      "Requirement already satisfied: kiwisolver>=1.0.1 in /home/ec2-user/anaconda3/envs/python3/lib/python3.6/site-packages (from matplotlib->catboost) (1.0.1)\n",
      "Requirement already satisfied: pyparsing!=2.0.4,!=2.1.2,!=2.1.6,>=2.0.1 in /home/ec2-user/anaconda3/envs/python3/lib/python3.6/site-packages (from matplotlib->catboost) (2.2.0)\n",
      "Requirement already satisfied: python-dateutil>=2.1 in /home/ec2-user/anaconda3/envs/python3/lib/python3.6/site-packages (from matplotlib->catboost) (2.7.3)\n",
      "Requirement already satisfied: pytz>=2011k in /home/ec2-user/anaconda3/envs/python3/lib/python3.6/site-packages (from pandas>=0.24.0->catboost) (2018.4)\n",
      "Requirement already satisfied: retrying>=1.3.3 in /home/ec2-user/anaconda3/envs/python3/lib/python3.6/site-packages (from plotly->catboost) (1.3.3)\n",
      "Requirement already satisfied: setuptools in /home/ec2-user/anaconda3/envs/python3/lib/python3.6/site-packages (from kiwisolver>=1.0.1->matplotlib->catboost) (39.1.0)\n",
      "Installing collected packages: numpy, graphviz, catboost\n",
      "  Found existing installation: numpy 1.14.3\n",
      "    Uninstalling numpy-1.14.3:\n",
      "      Successfully uninstalled numpy-1.14.3\n",
      "Successfully installed catboost-0.23 graphviz-0.14 numpy-1.18.3\n",
      "\u001b[33mYou are using pip version 10.0.1, however version 20.1b1 is available.\n",
      "You should consider upgrading via the 'pip install --upgrade pip' command.\u001b[0m\n"
     ]
    }
   ],
   "source": [
    "# Try deploying using SageMaker Endpoint\n",
    "!pip install catboost\n",
    "import catboost\n",
    "import boto3\n",
    "import os\n",
    "import json\n",
    "from sagemaker import get_execution_role\n",
    "region = boto3.Session().region_name\n",
    "role = get_execution_role()\n",
    "bucket = \"house-prediction-project\"\n",
    "prefix = \"sagemaker/catboost-model\"\n",
    "bucket_path = 'httpsL//s3-{}-amazonaws.com/{}'.format(region, bucket)\n",
    "model_file_name = \"catboost-model\"\n",
    "fObj = open(\"model.tar.gz\", 'rb')\n",
    "model_file_name = \n",
    "key= os.path.join(prefix, model_file_name, 'model.tar.gz')\n",
    "boto3.Session().resource(\"s3\").Bucket(bucket).Object(key).upload_fileobj(fObj)\n"
   ]
  },
  {
   "cell_type": "code",
   "execution_count": null,
   "metadata": {},
   "outputs": [],
   "source": []
  }
 ],
 "metadata": {
  "kernelspec": {
   "display_name": "conda_python3",
   "language": "python",
   "name": "conda_python3"
  },
  "language_info": {
   "codemirror_mode": {
    "name": "ipython",
    "version": 3
   },
   "file_extension": ".py",
   "mimetype": "text/x-python",
   "name": "python",
   "nbconvert_exporter": "python",
   "pygments_lexer": "ipython3",
   "version": "3.6.5"
  }
 },
 "nbformat": 4,
 "nbformat_minor": 4
}
